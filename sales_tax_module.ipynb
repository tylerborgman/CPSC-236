{
 "cells": [
  {
   "cell_type": "code",
   "execution_count": null,
   "id": "9f4b4400",
   "metadata": {},
   "outputs": [],
   "source": [
    "TAX_RATE = 0.06\n",
    "\n",
    "def calculate_sales_tax(total_cost):\n",
    "    return round(total_cost * TAX_RATE, 2)\n",
    "\n",
    "def calculate_total_after_tax(total_cost):\n",
    "    return round(total_cost * (1 + TAX_RATE), 2)"
   ]
  }
 ],
 "metadata": {
  "kernelspec": {
   "display_name": "Python 3 (ipykernel)",
   "language": "python",
   "name": "python3"
  },
  "language_info": {
   "codemirror_mode": {
    "name": "ipython",
    "version": 3
   },
   "file_extension": ".py",
   "mimetype": "text/x-python",
   "name": "python",
   "nbconvert_exporter": "python",
   "pygments_lexer": "ipython3",
   "version": "3.11.5"
  }
 },
 "nbformat": 4,
 "nbformat_minor": 5
}
